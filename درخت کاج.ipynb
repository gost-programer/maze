{
 "cells": [
  {
   "cell_type": "code",
   "execution_count": 1,
   "id": "d43cf072",
   "metadata": {},
   "outputs": [
    {
     "ename": "Terminator",
     "evalue": "",
     "output_type": "error",
     "traceback": [
      "\u001b[1;31m---------------------------------------------------------------------------\u001b[0m",
      "\u001b[1;31mTerminator\u001b[0m                                Traceback (most recent call last)",
      "Cell \u001b[1;32mIn[1], line 22\u001b[0m\n\u001b[0;32m     20\u001b[0m \u001b[38;5;28;01mfor\u001b[39;00m i \u001b[38;5;129;01min\u001b[39;00m \u001b[38;5;28mrange\u001b[39m(\u001b[38;5;241m3\u001b[39m):\n\u001b[0;32m     21\u001b[0m     forward(\u001b[38;5;241m200\u001b[39m)\n\u001b[1;32m---> 22\u001b[0m     \u001b[43mleft\u001b[49m\u001b[43m(\u001b[49m\u001b[38;5;241;43m120\u001b[39;49m\u001b[43m)\u001b[49m\n\u001b[0;32m     23\u001b[0m end_fill()\n\u001b[0;32m     24\u001b[0m up()\n",
      "File \u001b[1;32m<string>:5\u001b[0m, in \u001b[0;36mleft\u001b[1;34m(angle)\u001b[0m\n",
      "\u001b[1;31mTerminator\u001b[0m: "
     ]
    }
   ],
   "source": [
    "from turtle import*\n",
    "color('green','green')\n",
    "begin_fill()\n",
    "for i in range(3):\n",
    "    forward(200)\n",
    "    left(120)\n",
    "end_fill()\n",
    "up()\n",
    "goto(0,50)\n",
    "down()\n",
    "begin_fill()\n",
    "for i in range(3):\n",
    "    forward(200)\n",
    "    left(120)\n",
    "end_fill()\n",
    "up()\n",
    "goto(0,100)\n",
    "down()\n",
    "begin_fill()\n",
    "for i in range(3):\n",
    "    forward(200)\n",
    "    left(120)\n",
    "end_fill()\n",
    "up()\n",
    "home()\n",
    "down()\n",
    "goto(75,0)\n",
    "color('brown','brown')\n",
    "begin_fill()\n",
    "right(90)\n",
    "forward(250)\n",
    "left(90)\n",
    "forward(50)\n",
    "left(90)\n",
    "forward(250)\n",
    "end_fill()\n"
   ]
  },
  {
   "cell_type": "code",
   "execution_count": null,
   "id": "4cc16d05",
   "metadata": {},
   "outputs": [],
   "source": []
  }
 ],
 "metadata": {
  "kernelspec": {
   "display_name": "Python 3 (ipykernel)",
   "language": "python",
   "name": "python3"
  },
  "language_info": {
   "codemirror_mode": {
    "name": "ipython",
    "version": 3
   },
   "file_extension": ".py",
   "mimetype": "text/x-python",
   "name": "python",
   "nbconvert_exporter": "python",
   "pygments_lexer": "ipython3",
   "version": "3.10.9"
  }
 },
 "nbformat": 4,
 "nbformat_minor": 5
}
