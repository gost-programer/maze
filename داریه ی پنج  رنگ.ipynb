{
 "cells": [
  {
   "cell_type": "code",
   "execution_count": 1,
   "id": "9db02a56",
   "metadata": {},
   "outputs": [],
   "source": [
    "from turtle import*\n",
    "from random import*\n",
    "cl=['red','green','blue','yellow','magenta']\n",
    "for i in range(7):\n",
    "    color(cl[randint(0,4)])\n",
    "    begin_fill()\n",
    "    circle(100)\n",
    "    end_fill()\n",
    "    left(72)\n"
   ]
  },
  {
   "cell_type": "code",
   "execution_count": null,
   "id": "21a0cbab",
   "metadata": {},
   "outputs": [],
   "source": []
  },
  {
   "cell_type": "code",
   "execution_count": null,
   "id": "d50ae243",
   "metadata": {},
   "outputs": [],
   "source": []
  },
  {
   "cell_type": "code",
   "execution_count": null,
   "id": "6fd30194",
   "metadata": {},
   "outputs": [],
   "source": []
  },
  {
   "cell_type": "code",
   "execution_count": null,
   "id": "4eae53b3",
   "metadata": {},
   "outputs": [],
   "source": []
  }
 ],
 "metadata": {
  "kernelspec": {
   "display_name": "Python 3 (ipykernel)",
   "language": "python",
   "name": "python3"
  },
  "language_info": {
   "codemirror_mode": {
    "name": "ipython",
    "version": 3
   },
   "file_extension": ".py",
   "mimetype": "text/x-python",
   "name": "python",
   "nbconvert_exporter": "python",
   "pygments_lexer": "ipython3",
   "version": "3.10.9"
  }
 },
 "nbformat": 4,
 "nbformat_minor": 5
}
