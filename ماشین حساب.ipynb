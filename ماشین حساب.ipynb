{
 "cells": [
  {
   "cell_type": "code",
   "execution_count": null,
   "id": "7ee1ad67",
   "metadata": {},
   "outputs": [],
   "source": [
    "def add(x,y):\n",
    "    print(x+y)\n",
    "def sub(x,y):\n",
    "    print(x-y)\n",
    "def mul(x,y):\n",
    "    print(x*y)\n",
    "def divide(x,y):\n",
    "    print(x/y)\n",
    "def power(x,y):\n",
    "    print(x**y)\n",
    "n1=float(input())\n",
    "op=input()\n",
    "n2=float(input())\n",
    "if op==\"+\":\n",
    "    add(n1,n2)\n",
    "elif op==\"-\":\n",
    "    sub(n1,n2)\n",
    "elif op==\"*\":\n",
    "    mul(n1,n2)\n",
    "elif op==\"/\":\n",
    "    divide(n1,n2)\n",
    "elif op==\"**\":\n",
    "    power(n1,n2)\n",
    "else: \n",
    "    print (\"اطلاعات وارد شده صحیح نیست\")\n"
   ]
  },
  {
   "cell_type": "code",
   "execution_count": 1,
   "id": "8778e773",
   "metadata": {},
   "outputs": [
    {
     "name": "stdout",
     "output_type": "stream",
     "text": [
      "10\n",
      "-\n",
      "10\n",
      "0\n"
     ]
    }
   ],
   "source": [
    "def jk(x,y,z):\n",
    "    if y==\"/\":\n",
    "        return x/z\n",
    "    elif y==\"*\":\n",
    "        return x*z\n",
    "    elif y==\"-\":\n",
    "        return x-z\n",
    "    elif y==\"+\":\n",
    "        return x+z\n",
    "o=int(input())\n",
    "g=input()\n",
    "h=int(input())\n",
    "gh=jk(o,g,h)\n",
    "print(gh)"
   ]
  },
  {
   "cell_type": "code",
   "execution_count": null,
   "id": "715dddd7",
   "metadata": {},
   "outputs": [],
   "source": []
  },
  {
   "cell_type": "code",
   "execution_count": null,
   "id": "5e2d6f1e",
   "metadata": {},
   "outputs": [],
   "source": []
  }
 ],
 "metadata": {
  "kernelspec": {
   "display_name": "Python 3 (ipykernel)",
   "language": "python",
   "name": "python3"
  },
  "language_info": {
   "codemirror_mode": {
    "name": "ipython",
    "version": 3
   },
   "file_extension": ".py",
   "mimetype": "text/x-python",
   "name": "python",
   "nbconvert_exporter": "python",
   "pygments_lexer": "ipython3",
   "version": "3.10.9"
  }
 },
 "nbformat": 4,
 "nbformat_minor": 5
}
